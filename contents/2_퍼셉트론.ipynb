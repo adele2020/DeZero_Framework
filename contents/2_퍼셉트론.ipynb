{
 "cells": [
  {
   "cell_type": "markdown",
   "metadata": {},
   "source": [
    "## 2.1 퍼셉트론이란?  \n",
    "정확히는 인공뉴런, 단순 퍼셉트론 로젠블라트가 1957년에 고안한 알고리즘  \n",
    "다수의 입력신호를 입력 받아 하나의 신호로 출력한다.   \n",
    "복수의 입력 신호 각각에 고유한 가중치를 부여한다. 가중치는 각 신호가 결과에 주는 영향력을 조절하는 요소로 작용한다. 가중치가 클수록 해당 신호가 더 중요함을 뜻한다.    \n",
    "뉴런, 노드   \n",
    "가중치  \n",
    "임계값  \n",
    "퍼셉트론의 동작원리  \n",
    "$$y=\\begin{cases} \n",
    "  0 (w_1x_1+w_2x_2 \\leq \\theta)\\\\\n",
    "  1 (w_1x_1+w_2x_2 > \\theta)\n",
    "\\end{cases}$$  \n",
    "\n",
    "## 2.2 단순한 논리 회로\n",
    "논리회로는 퍼셉트론을 구현한 간단한 활용 예이다. \n",
    "퍼셉트론의 구조는 AND, NAND, OR게이트 모두에서 똑같다. 다른 것은 매개변수인 가중치와 임계값뿐이다.  \n",
    "\n",
    "## 2.3 퍼셉트론 구현하기 \n",
    "\n",
    "### 2.3.1 간단한 구현부터  \n",
    " AND게이트를 x1과 x2를 인수로 받는 함수로 표현  "
   ]
  },
  {
   "cell_type": "code",
   "execution_count": 1,
   "metadata": {},
   "outputs": [],
   "source": [
    "# AND 게이트 (기본)\n",
    "def AND(x1, x2):\n",
    "    w1, w2, theta = 0.5, 0.5, 0.7\n",
    "    tmp = x1*w1 + x2*w2\n",
    "    if tmp <= theta:\n",
    "        return 0\n",
    "    elif tmp > theta:\n",
    "        return 1"
   ]
  },
  {
   "cell_type": "code",
   "execution_count": 4,
   "metadata": {},
   "outputs": [
    {
     "name": "stdout",
     "output_type": "stream",
     "text": [
      "0\n",
      "0\n",
      "0\n",
      "1\n"
     ]
    }
   ],
   "source": [
    "AND(0, 0) # 0 출력\n",
    "AND(1, 0) # 0 출력\n",
    "AND(0, 1) # 0 출력\n",
    "AND(1, 1) # 1 출력                       "
   ]
  },
  {
   "cell_type": "markdown",
   "metadata": {},
   "source": [
    "### 2.3.2 가중치와 편향도입\n",
    "\n",
    "$\\theta$를 $-b$로 치환한 퍼셉트론 동작원리\n",
    "\n",
    "$$y=\\begin{cases} \n",
    "  0 (b+w_1x_1+w_2x_2 \\leq 0)\\\\\n",
    "  1 (b+w_1x_1+w_2x_2 > 0)\n",
    "\\end{cases}$$\n",
    "\n",
    "위 AND의 $\\theta$가 $-b$ 가 되었다.  $w_1$, $w_2$는 각 입력 신호가 결과에 주는 영향력(중요도)을 조절하는 매개변수고, 편향은 뉴런이 얼마나 활성화(결과로 1을 출력) 하느냐를 조정하는 매개변수이다.  \n",
    "\n",
    "### 2.3.3 가중치와 편향 구현하기"
   ]
  },
  {
   "cell_type": "code",
   "execution_count": 8,
   "metadata": {},
   "outputs": [],
   "source": [
    "# AND 게이트 \n",
    "import numpy as np\n",
    "\n",
    "def AND(x1, x2):\n",
    "    x = np.array([x1, x2])   #입력\n",
    "    w = np.array([0.5, 0.5]) #가중치\n",
    "    b = - 0.7                #편향\n",
    "    tmp = np.sum(w*x) + b\n",
    "    if tmp <= 0: \n",
    "        return 0\n",
    "    else:\n",
    "        return 1                         "
   ]
  },
  {
   "cell_type": "code",
   "execution_count": 24,
   "metadata": {},
   "outputs": [
    {
     "name": "stdout",
     "output_type": "stream",
     "text": [
      "0\n",
      "0\n",
      "0\n",
      "1\n"
     ]
    }
   ],
   "source": [
    "print(AND(0, 0)) # 0 출력\n",
    "print(AND(1, 0)) # 0 출력\n",
    "print(AND(0, 1)) # 0 출력\n",
    "print(AND(1, 1)) # 1 출력     "
   ]
  },
  {
   "cell_type": "markdown",
   "metadata": {},
   "source": [
    "b가 -0.7이면 각 입력 신호에 가중치를 곱한 값들의 합이 0.7을 초과할 때만 뉴런이 활성화된다.  \n",
    "편향이라는 용어는 '한쪽으로 치우쳐 균형 깬다'라는 의미로 입력이 모두 0이어도 결과로 (0이 아닌) 편향 값을 출력한다."
   ]
  },
  {
   "cell_type": "code",
   "execution_count": 5,
   "metadata": {},
   "outputs": [],
   "source": [
    "# NAND 게이트\n",
    "def NAND(x1, x2):\n",
    "    x = np.array([x1, x2])\n",
    "    w = np.array([-0.5, -0.5]) # AND와의 가중치(w와 b)만 다르다.\n",
    "    b = 0.7\n",
    "    tmp = np.sum(w*x) + b\n",
    "    if tmp <= 0:\n",
    "        return 0\n",
    "    else:\n",
    "        return 1"
   ]
  },
  {
   "cell_type": "code",
   "execution_count": 16,
   "metadata": {},
   "outputs": [
    {
     "name": "stdout",
     "output_type": "stream",
     "text": [
      "1\n",
      "1\n",
      "1\n",
      "0\n"
     ]
    }
   ],
   "source": [
    "print(NAND(0, 0)) # 1 출력\n",
    "print(NAND(1, 0)) # 1 출력\n",
    "print(NAND(0, 1)) # 1 출력\n",
    "print(NAND(1, 1)) # 0 출력                                                    "
   ]
  },
  {
   "cell_type": "code",
   "execution_count": 7,
   "metadata": {},
   "outputs": [],
   "source": [
    "# OR 게이트 \n",
    "def OR(x1, x2):\n",
    "    x = np.array([x1, x2])\n",
    "    w = np.array([0.5, 0.5]) # AND와의 가중치(w와 b)만 다르다.\n",
    "    b = -0.2\n",
    "    tmp = np.sum(w*x) + b\n",
    "    if tmp <= 0:\n",
    "        return 0\n",
    "    else:\n",
    "        return 1"
   ]
  },
  {
   "cell_type": "code",
   "execution_count": 18,
   "metadata": {},
   "outputs": [
    {
     "data": {
      "text/plain": [
       "1"
      ]
     },
     "execution_count": 18,
     "metadata": {},
     "output_type": "execute_result"
    }
   ],
   "source": [
    "OR(0, 0) # 0 출력\n",
    "OR(1, 0) # 1 출력\n",
    "OR(0, 1) # 1 출력\n",
    "OR(1, 1) # 1 출력  "
   ]
  },
  {
   "cell_type": "code",
   "execution_count": 19,
   "metadata": {
    "scrolled": true
   },
   "outputs": [
    {
     "name": "stdout",
     "output_type": "stream",
     "text": [
      "0\n",
      "1\n",
      "1\n",
      "1\n"
     ]
    }
   ],
   "source": [
    "print(OR(0, 0)) # 1 출력\n",
    "print(OR(1, 0)) # 1 출력\n",
    "print(OR(0, 1)) # 1 출력\n",
    "print(OR(1, 1)) # 0 출력    "
   ]
  },
  {
   "cell_type": "markdown",
   "metadata": {},
   "source": [
    "## 2.4 퍼셉트론의 한계\n",
    "\n",
    "단층 퍼셉트론으로는 \"XOR 게이트를 표현할 수 없다\" 또는 \"단층 퍼셉트론으로는 비선형 영역을 분리할 수 없다\"가 된다. 퍼셉트론을 조합하여, 즉 층을 쌓아서 XOR 게이트를 구현할 수 있다. \n",
    "\n",
    "단층 퍼셉트론은 직선형 영역만 표현할 수 있고, 다층 퍼셉트론은 비선형 영역도 표현할 수 있다. \n",
    "\n",
    "\n",
    "## 2.5 다층 퍼셉트론이 출동한다면\n",
    "\n",
    "퍼셉트론의 아룸다움은 '층을 쌓아' 다층 퍼셉트론을 만들 수 있다는데 있다.  XOR 표현이 가능해진다. \n",
    "\n",
    "\n",
    "### XOR 게이트 구현하기"
   ]
  },
  {
   "cell_type": "code",
   "execution_count": 9,
   "metadata": {},
   "outputs": [],
   "source": [
    "# XOR 게이트 \n",
    "def XOR(x1, x2):\n",
    "    s1 = NAND(x1, x2)\n",
    "    s2 = OR(x1, x2)\n",
    "    y = AND(s1, s2)\n",
    "    return y"
   ]
  },
  {
   "cell_type": "code",
   "execution_count": 11,
   "metadata": {},
   "outputs": [
    {
     "name": "stdout",
     "output_type": "stream",
     "text": [
      "0\n",
      "1\n",
      "1\n",
      "0\n"
     ]
    }
   ],
   "source": [
    "print(XOR(0, 0)) # 0 출력\n",
    "print(XOR(1, 0)) # 1 출력\n",
    "print(XOR(0, 1)) # 1 출력\n",
    "print(XOR(1, 1)) # 0 출력  "
   ]
  },
  {
   "cell_type": "markdown",
   "metadata": {},
   "source": [
    "2층 퍼셉트론을 서술한다면..  \n",
    "1. 0층의 두 뉴런이 입력 신호를 받아 1층의 뉴런으로 신호를 보낸다.   \n",
    "2. 1층의 뉴런이 2층의 뉴런으로 신호를 보내고, 2층의 뉴런은 y를 출력한다.   \n",
    "단층 퍼셉트론으로는 표현하지 못한 것을 층을 하나 늘려 구현할 수 있다.  \n",
    "\n",
    "## 2.6 NAND에서 컴퓨터까지  \n",
    "다층 퍼셉트론은 컴퓨터도 만들 정도로 복잡한 표현을 해낸다.   \n",
    "\n",
    "## 2.7 정리  \n",
    "퍼셉트론은 입출력을 갖춘 알고리즘으로 입력을 주면 정해진 규칙에 따라 출력한다.   \n",
    "퍼셉트론은 가중치와 편향을 매개변수로 설정한다.  \n",
    "페셉트론은 논리회로로 표현할 수 있는데 XOR 게이트는 단층 퍼셉트론으로 표현할 수 없고  \n",
    "2층 퍼셉트론을 이용하면 XOR 게이트를 표현할 수 있다.   \n",
    "단층 퍼셉트론은 직선형 영역만 표현할 수 있고, 다층 퍼셉트론은 비선형 영역도 표현할 수 있다.  "
   ]
  }
 ],
 "metadata": {
  "kernelspec": {
   "display_name": "Python 3",
   "language": "python",
   "name": "python3"
  },
  "language_info": {
   "codemirror_mode": {
    "name": "ipython",
    "version": 3
   },
   "file_extension": ".py",
   "mimetype": "text/x-python",
   "name": "python",
   "nbconvert_exporter": "python",
   "pygments_lexer": "ipython3",
   "version": "3.8.3"
  }
 },
 "nbformat": 4,
 "nbformat_minor": 4
}
